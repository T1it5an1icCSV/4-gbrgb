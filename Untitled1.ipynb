{
 "cells": [
  {
   "cell_type": "markdown",
   "id": "779c0bad-1954-441d-9240-2b2bd51a86d9",
   "metadata": {},
   "source": [
    "# Практическая работа №4 Регрессия и метрики."
   ]
  },
  {
   "cell_type": "markdown",
   "id": "f4772099-fa6b-418c-a2fb-fce3c4180036",
   "metadata": {},
   "source": [
    "выполнил студент группы Т50-11-23 Шаймарданов Ренат"
   ]
  },
  {
   "cell_type": "markdown",
   "id": "dc6d4836-1442-4b22-9600-6b6bd9b4481d",
   "metadata": {},
   "source": [
    "***Цель работы:*** Обучить модели на решение регрессионной задачи."
   ]
  },
  {
   "cell_type": "markdown",
   "id": "8f908adc-2f37-4d0c-8c7a-007d0e72af3d",
   "metadata": {},
   "source": [
    "***Ход работы:***"
   ]
  },
  {
   "cell_type": "markdown",
   "id": "0c8ae39a-68e9-40e1-af18-779c5fe526f0",
   "metadata": {},
   "source": [
    "# На 4:"
   ]
  },
  {
   "cell_type": "markdown",
   "id": "c2851996-24a1-4c31-bb35-4309514639cf",
   "metadata": {},
   "source": [
    "* На собственном датасете."
   ]
  },
  {
   "cell_type": "code",
   "execution_count": 3,
   "id": "2e9e77bf-0eb4-4f33-a1ea-1a1996c3e652",
   "metadata": {},
   "outputs": [
    {
     "name": "stdout",
     "output_type": "stream",
     "text": [
      "      Passengerid   Age      Fare  Sex  sibsp  zero  zero.1  zero.2  zero.3  \\\n",
      "0               1  22.0    7.2500    0      1     0       0       0       0   \n",
      "1               2  38.0   71.2833    1      1     0       0       0       0   \n",
      "2               3  26.0    7.9250    1      0     0       0       0       0   \n",
      "3               4  35.0   53.1000    1      1     0       0       0       0   \n",
      "4               5  35.0    8.0500    0      0     0       0       0       0   \n",
      "...           ...   ...       ...  ...    ...   ...     ...     ...     ...   \n",
      "1304         1305  28.0    8.0500    0      0     0       0       0       0   \n",
      "1305         1306  39.0  108.9000    1      0     0       0       0       0   \n",
      "1306         1307  38.5    7.2500    0      0     0       0       0       0   \n",
      "1307         1308  28.0    8.0500    0      0     0       0       0       0   \n",
      "1308         1309  28.0   22.3583    0      1     0       0       0       0   \n",
      "\n",
      "      zero.4  ...  zero.12  zero.13  zero.14  Pclass  zero.15  zero.16  \\\n",
      "0          0  ...        0        0        0       3        0        0   \n",
      "1          0  ...        0        0        0       1        0        0   \n",
      "2          0  ...        0        0        0       3        0        0   \n",
      "3          0  ...        0        0        0       1        0        0   \n",
      "4          0  ...        0        0        0       3        0        0   \n",
      "...      ...  ...      ...      ...      ...     ...      ...      ...   \n",
      "1304       0  ...        0        0        0       3        0        0   \n",
      "1305       0  ...        0        0        0       1        0        0   \n",
      "1306       0  ...        0        0        0       3        0        0   \n",
      "1307       0  ...        0        0        0       3        0        0   \n",
      "1308       0  ...        0        0        0       3        0        0   \n",
      "\n",
      "      Embarked  zero.17  zero.18  2urvived  \n",
      "0          2.0        0        0         0  \n",
      "1          0.0        0        0         1  \n",
      "2          2.0        0        0         1  \n",
      "3          2.0        0        0         1  \n",
      "4          2.0        0        0         0  \n",
      "...        ...      ...      ...       ...  \n",
      "1304       2.0        0        0         0  \n",
      "1305       0.0        0        0         0  \n",
      "1306       2.0        0        0         0  \n",
      "1307       2.0        0        0         0  \n",
      "1308       0.0        0        0         0  \n",
      "\n",
      "[1309 rows x 28 columns]\n"
     ]
    }
   ],
   "source": [
    "#библиотека для анализа данных(фильтрации, обработки пропущенных значений, предоставления данных в виде DataFrame)\n",
    "# DataFrame - двумерный массив, позволяет хранить данные разных типов в разных столбцах\n",
    "import pandas as pd \n",
    "\n",
    "#библиотека train_test_split для разделения данных на тренировочные и тестовые наборы данных.\n",
    "# тренировочные - часть данных предназначенных для обучения модели, поиска закономерностей между данными, составлениям предсказаний\n",
    "# тестовые - часть данных , которая не использовалась для обучения модели. \n",
    "# нужна для оценки того как модель будет работать на новых данных, а не только на тех данных на которых она уже обучилась.\n",
    "\n",
    "#библиотека KFold для кросс-валидации данных более лучшего разбиения данных.\n",
    "from sklearn.model_selection import train_test_split, KFold\n",
    "\n",
    "#библиотека для создания линейных моделей, предсказания целевых переменных(то, что надо предсказать(регрессия), объяснить(классификация)).\n",
    "# линейная модель - математическое представление, показывает зависимость независимых признаоков с зависимой переменной(целевой) \n",
    "from sklearn.linear_model import LinearRegression, Ridge \n",
    "\n",
    "#библиотека для оценки качества моделей , такие как\n",
    "\n",
    "# максимальная ошибка предсказания - метрика для оценки, показывает наибольшее абсолютное отклонение \n",
    "# между предсказанным и фактическим значением целевой переменной в наборе данных. \n",
    "\n",
    "# средняя абсолютная ошибка - метрика для оценки, показывает среднее значение абсолютных отклонений предсказанных значений\n",
    "# от фактических значений.\n",
    "\n",
    "# средняя квадратичная ошибка - метрика для оценки, измеряет среднее значение квадратов разностей между \n",
    "# предсказанными и фактическими значениями целевой переменной.\n",
    "\n",
    "# коэффициент детерминации - статистическая мера, которая показывает, какая доля вариации в зависимой переменной может быть\n",
    "# объяснена изменениями в независимых переменных, используемых в модели.\n",
    "from sklearn.metrics import max_error, mean_absolute_error, mean_squared_error, r2_score, mean_squared_error \n",
    "\n",
    "# библиотека для математических операций, работы с массивами и матрицами\n",
    "import numpy as np \n",
    "\n",
    "# Загрузка датасета\n",
    "df = pd.read_csv('processed_titanic.csv')\n",
    "# Вывод датасета\n",
    "print(df)"
   ]
  },
  {
   "cell_type": "markdown",
   "id": "7329240d-2aa1-455d-98b8-0553e6f839cf",
   "metadata": {},
   "source": [
    "* Разбить данные по train_test_split или по KFold;"
   ]
  },
  {
   "cell_type": "code",
   "execution_count": 5,
   "id": "624287eb-5192-4af1-ba82-e0f2223cddf8",
   "metadata": {},
   "outputs": [],
   "source": [
    "# Целевая переменная '2urvived', остальные - признаки\n",
    "X = df.drop(columns=['2urvived', 'Passengerid'])\n",
    "y = df['2urvived']\n",
    "\n",
    "# Разделение данных на обучающую и тестовую выборки\n",
    "X_train, X_test, y_train, y_test = train_test_split(X, y, test_size=0.2, random_state=42)"
   ]
  },
  {
   "cell_type": "markdown",
   "id": "dffdf8f6-2e86-4856-b2ff-c53b7c0d3146",
   "metadata": {},
   "source": [
    "* Необходимо обучить 2 модели регрессионного анализа;\n",
    "Использовав метрики (max_error, mean_absolute_error, mean_squared_error, r2_score, root_mean_squared_error\n",
    "(если имеется в вашей версии))."
   ]
  },
  {
   "cell_type": "code",
   "execution_count": 12,
   "id": "a9ad9195-363f-4239-a552-7e280c1f23ee",
   "metadata": {},
   "outputs": [
    {
     "name": "stdout",
     "output_type": "stream",
     "text": [
      "Количество пропущенных значений перед обработкой:\n",
      "Age         0\n",
      "Fare        0\n",
      "Sex         0\n",
      "sibsp       0\n",
      "zero        0\n",
      "zero.1      0\n",
      "zero.2      0\n",
      "zero.3      0\n",
      "zero.4      0\n",
      "zero.5      0\n",
      "zero.6      0\n",
      "Parch       0\n",
      "zero.7      0\n",
      "zero.8      0\n",
      "zero.9      0\n",
      "zero.10     0\n",
      "zero.11     0\n",
      "zero.12     0\n",
      "zero.13     0\n",
      "zero.14     0\n",
      "Pclass      0\n",
      "zero.15     0\n",
      "zero.16     0\n",
      "Embarked    2\n",
      "zero.17     0\n",
      "zero.18     0\n",
      "dtype: int64\n",
      "Количество пропущенных значений после обработки:\n",
      "Age         0\n",
      "Fare        0\n",
      "Sex         0\n",
      "sibsp       0\n",
      "zero        0\n",
      "zero.1      0\n",
      "zero.2      0\n",
      "zero.3      0\n",
      "zero.4      0\n",
      "zero.5      0\n",
      "zero.6      0\n",
      "Parch       0\n",
      "zero.7      0\n",
      "zero.8      0\n",
      "zero.9      0\n",
      "zero.10     0\n",
      "zero.11     0\n",
      "zero.12     0\n",
      "zero.13     0\n",
      "zero.14     0\n",
      "Pclass      0\n",
      "zero.15     0\n",
      "zero.16     0\n",
      "Embarked    0\n",
      "zero.17     0\n",
      "zero.18     0\n",
      "dtype: int64\n"
     ]
    }
   ],
   "source": [
    "# Проверка на наличие пропущенных значений\n",
    "print(\"Количество пропущенных значений перед обработкой:\")\n",
    "print(X.isnull().sum())\n",
    "\n",
    "# Заполнение пропущенных значений средним значением\n",
    "X.fillna(X.mean(), inplace=True)\n",
    "\n",
    "# Проверка на наличие пропущенных значений после обработки\n",
    "print(\"Количество пропущенных значений после обработки:\")\n",
    "print(X.isnull().sum())\n",
    "\n",
    "# Обучение первой модели - Линейная регрессия\n",
    "model1 = LinearRegression()\n",
    "model1.fit(X_train, y_train)\n",
    "y_pred1 = model1.predict(X_test)\n",
    "\n",
    "# Обучение второй модели - Ридж-регрессия\n",
    "model2 = Ridge()\n",
    "model2.fit(X_train, y_train)\n",
    "y_pred2 = model2.predict(X_test)\n"
   ]
  },
  {
   "cell_type": "markdown",
   "id": "3f8e1766-2e74-4719-9d99-a9e1467677cd",
   "metadata": {},
   "source": [
    "* Провести анализ точности модели"
   ]
  },
  {
   "cell_type": "code",
   "execution_count": 14,
   "id": "02982ce0-bb75-49f7-883e-2fd9611f0949",
   "metadata": {},
   "outputs": [
    {
     "name": "stdout",
     "output_type": "stream",
     "text": [
      "                   max_error  mean_absolute_error  mean_squared_error  \\\n",
      "Linear Regression   0.956665              0.31101            0.157157   \n",
      "Ridge Regression    0.955758              0.31124            0.157175   \n",
      "\n",
      "                   r2_score  root_mean_squared_error  \n",
      "Linear Regression  0.218099                 0.396430  \n",
      "Ridge Regression   0.218008                 0.396454  \n"
     ]
    }
   ],
   "source": [
    "# Оценка точности моделей\n",
    "metrics = {\n",
    "    'max_error': [max_error(y_test, y_pred1), max_error(y_test, y_pred2)],\n",
    "    'mean_absolute_error': [mean_absolute_error(y_test, y_pred1), mean_absolute_error(y_test, y_pred2)],\n",
    "    'mean_squared_error': [mean_squared_error(y_test, y_pred1), mean_squared_error(y_test, y_pred2)],\n",
    "    'r2_score': [r2_score(y_test, y_pred1), r2_score(y_test, y_pred2)],\n",
    "    'root_mean_squared_error': [np.sqrt(mean_squared_error(y_test, y_pred1)), np.sqrt(mean_squared_error(y_test, y_pred2))]\n",
    "}\n",
    "\n",
    "# Вывод результатов\n",
    "metrics_df = pd.DataFrame(metrics, index=['Linear Regression', 'Ridge Regression'])\n",
    "print(metrics_df)"
   ]
  },
  {
   "cell_type": "markdown",
   "id": "e7702efc-4b39-4262-9b5a-29350124e629",
   "metadata": {},
   "source": [
    "* Описать состояния обученности модели; "
   ]
  },
  {
   "cell_type": "markdown",
   "id": "bf98b72e-baae-441b-8af0-a1aab9a8c29d",
   "metadata": {},
   "source": [
    "Линейная регрессия показала лучшие результаты по всем метрикам, кроме максимальной ошибки.\n",
    "Ридж-регрессия более устойчива к крайним значениям.\n",
    "Обе модели имеют достаточно низкие значения коэффициента детерминации, что указывает на то, что данные могут нуждаться в дополнительной обработке."
   ]
  },
  {
   "cell_type": "markdown",
   "id": "0708a33e-c583-4b41-a91d-35304b249b5e",
   "metadata": {},
   "source": [
    "* Написать вывод о модели."
   ]
  },
  {
   "cell_type": "markdown",
   "id": "8ff536c1-36ea-4b94-b6a8-f2d3200307ec",
   "metadata": {},
   "source": [
    "Оба метода имеют схожие показатели, но линейная регрессия демонстрирует немного более высокие значения ошибок, чем гребневая регрессия.\n",
    "Коэффициент детерминации (R²) для обеих моделей низкий, что указывает на плохую объясняющую способность моделей по отношению к вариации зависимой переменной.\n",
    "Корень из средней квадратичной ошибки также показывает, что обе модели имеют схожую степень отклонения предсказанных значений от фактических."
   ]
  },
  {
   "cell_type": "markdown",
   "id": "a8751f92-dde7-4935-b223-108d36d9b3b5",
   "metadata": {},
   "source": [
    "***Вывод:***"
   ]
  },
  {
   "cell_type": "markdown",
   "id": "b336bfc4-b74e-4c6a-be88-84830cd71a12",
   "metadata": {},
   "source": [
    "В процессе выполнения работы были успешно применены навыки работы с библиотеками для анализа данных. Проведен анализ и оценка качества моделей линейной и ридж-регрессии."
   ]
  }
 ],
 "metadata": {
  "kernelspec": {
   "display_name": "Python 3 (ipykernel)",
   "language": "python",
   "name": "python3"
  },
  "language_info": {
   "codemirror_mode": {
    "name": "ipython",
    "version": 3
   },
   "file_extension": ".py",
   "mimetype": "text/x-python",
   "name": "python",
   "nbconvert_exporter": "python",
   "pygments_lexer": "ipython3",
   "version": "3.12.4"
  }
 },
 "nbformat": 4,
 "nbformat_minor": 5
}
